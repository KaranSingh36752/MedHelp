{
  "nbformat": 4,
  "nbformat_minor": 0,
  "metadata": {
    "colab": {
      "provenance": [],
      "gpuType": "T4"
    },
    "kernelspec": {
      "name": "python3",
      "display_name": "Python 3"
    },
    "language_info": {
      "name": "python"
    },
    "accelerator": "GPU"
  },
  "cells": [
    {
      "cell_type": "code",
      "execution_count": 15,
      "metadata": {
        "colab": {
          "base_uri": "https://localhost:8080/"
        },
        "id": "eCFIkEXf11aO",
        "outputId": "f61631a0-7034-46ff-be47-d3bf7a93e428"
      },
      "outputs": [
        {
          "output_type": "stream",
          "name": "stdout",
          "text": [
            "Requirement already satisfied: langchain in /usr/local/lib/python3.10/dist-packages (0.3.12)\n",
            "Requirement already satisfied: PyYAML>=5.3 in /usr/local/lib/python3.10/dist-packages (from langchain) (6.0.2)\n",
            "Requirement already satisfied: SQLAlchemy<3,>=1.4 in /usr/local/lib/python3.10/dist-packages (from langchain) (2.0.36)\n",
            "Requirement already satisfied: aiohttp<4.0.0,>=3.8.3 in /usr/local/lib/python3.10/dist-packages (from langchain) (3.11.10)\n",
            "Requirement already satisfied: async-timeout<5.0.0,>=4.0.0 in /usr/local/lib/python3.10/dist-packages (from langchain) (4.0.3)\n",
            "Requirement already satisfied: langchain-core<0.4.0,>=0.3.25 in /usr/local/lib/python3.10/dist-packages (from langchain) (0.3.25)\n",
            "Requirement already satisfied: langchain-text-splitters<0.4.0,>=0.3.3 in /usr/local/lib/python3.10/dist-packages (from langchain) (0.3.3)\n",
            "Requirement already satisfied: langsmith<0.3,>=0.1.17 in /usr/local/lib/python3.10/dist-packages (from langchain) (0.2.3)\n",
            "Requirement already satisfied: numpy<2,>=1.22.4 in /usr/local/lib/python3.10/dist-packages (from langchain) (1.26.4)\n",
            "Requirement already satisfied: pydantic<3.0.0,>=2.7.4 in /usr/local/lib/python3.10/dist-packages (from langchain) (2.10.3)\n",
            "Requirement already satisfied: requests<3,>=2 in /usr/local/lib/python3.10/dist-packages (from langchain) (2.32.3)\n",
            "Requirement already satisfied: tenacity!=8.4.0,<10,>=8.1.0 in /usr/local/lib/python3.10/dist-packages (from langchain) (9.0.0)\n",
            "Requirement already satisfied: aiohappyeyeballs>=2.3.0 in /usr/local/lib/python3.10/dist-packages (from aiohttp<4.0.0,>=3.8.3->langchain) (2.4.4)\n",
            "Requirement already satisfied: aiosignal>=1.1.2 in /usr/local/lib/python3.10/dist-packages (from aiohttp<4.0.0,>=3.8.3->langchain) (1.3.2)\n",
            "Requirement already satisfied: attrs>=17.3.0 in /usr/local/lib/python3.10/dist-packages (from aiohttp<4.0.0,>=3.8.3->langchain) (24.3.0)\n",
            "Requirement already satisfied: frozenlist>=1.1.1 in /usr/local/lib/python3.10/dist-packages (from aiohttp<4.0.0,>=3.8.3->langchain) (1.5.0)\n",
            "Requirement already satisfied: multidict<7.0,>=4.5 in /usr/local/lib/python3.10/dist-packages (from aiohttp<4.0.0,>=3.8.3->langchain) (6.1.0)\n",
            "Requirement already satisfied: propcache>=0.2.0 in /usr/local/lib/python3.10/dist-packages (from aiohttp<4.0.0,>=3.8.3->langchain) (0.2.1)\n",
            "Requirement already satisfied: yarl<2.0,>=1.17.0 in /usr/local/lib/python3.10/dist-packages (from aiohttp<4.0.0,>=3.8.3->langchain) (1.18.3)\n",
            "Requirement already satisfied: jsonpatch<2.0,>=1.33 in /usr/local/lib/python3.10/dist-packages (from langchain-core<0.4.0,>=0.3.25->langchain) (1.33)\n",
            "Requirement already satisfied: packaging<25,>=23.2 in /usr/local/lib/python3.10/dist-packages (from langchain-core<0.4.0,>=0.3.25->langchain) (24.2)\n",
            "Requirement already satisfied: typing-extensions>=4.7 in /usr/local/lib/python3.10/dist-packages (from langchain-core<0.4.0,>=0.3.25->langchain) (4.12.2)\n",
            "Requirement already satisfied: httpx<1,>=0.23.0 in /usr/local/lib/python3.10/dist-packages (from langsmith<0.3,>=0.1.17->langchain) (0.28.1)\n",
            "Requirement already satisfied: orjson<4.0.0,>=3.9.14 in /usr/local/lib/python3.10/dist-packages (from langsmith<0.3,>=0.1.17->langchain) (3.10.12)\n",
            "Requirement already satisfied: requests-toolbelt<2.0.0,>=1.0.0 in /usr/local/lib/python3.10/dist-packages (from langsmith<0.3,>=0.1.17->langchain) (1.0.0)\n",
            "Requirement already satisfied: annotated-types>=0.6.0 in /usr/local/lib/python3.10/dist-packages (from pydantic<3.0.0,>=2.7.4->langchain) (0.7.0)\n",
            "Requirement already satisfied: pydantic-core==2.27.1 in /usr/local/lib/python3.10/dist-packages (from pydantic<3.0.0,>=2.7.4->langchain) (2.27.1)\n",
            "Requirement already satisfied: charset-normalizer<4,>=2 in /usr/local/lib/python3.10/dist-packages (from requests<3,>=2->langchain) (3.4.0)\n",
            "Requirement already satisfied: idna<4,>=2.5 in /usr/local/lib/python3.10/dist-packages (from requests<3,>=2->langchain) (3.10)\n",
            "Requirement already satisfied: urllib3<3,>=1.21.1 in /usr/local/lib/python3.10/dist-packages (from requests<3,>=2->langchain) (2.2.3)\n",
            "Requirement already satisfied: certifi>=2017.4.17 in /usr/local/lib/python3.10/dist-packages (from requests<3,>=2->langchain) (2024.12.14)\n",
            "Requirement already satisfied: greenlet!=0.4.17 in /usr/local/lib/python3.10/dist-packages (from SQLAlchemy<3,>=1.4->langchain) (3.1.1)\n",
            "Requirement already satisfied: anyio in /usr/local/lib/python3.10/dist-packages (from httpx<1,>=0.23.0->langsmith<0.3,>=0.1.17->langchain) (3.7.1)\n",
            "Requirement already satisfied: httpcore==1.* in /usr/local/lib/python3.10/dist-packages (from httpx<1,>=0.23.0->langsmith<0.3,>=0.1.17->langchain) (1.0.7)\n",
            "Requirement already satisfied: h11<0.15,>=0.13 in /usr/local/lib/python3.10/dist-packages (from httpcore==1.*->httpx<1,>=0.23.0->langsmith<0.3,>=0.1.17->langchain) (0.14.0)\n",
            "Requirement already satisfied: jsonpointer>=1.9 in /usr/local/lib/python3.10/dist-packages (from jsonpatch<2.0,>=1.33->langchain-core<0.4.0,>=0.3.25->langchain) (3.0.0)\n",
            "Requirement already satisfied: sniffio>=1.1 in /usr/local/lib/python3.10/dist-packages (from anyio->httpx<1,>=0.23.0->langsmith<0.3,>=0.1.17->langchain) (1.3.1)\n",
            "Requirement already satisfied: exceptiongroup in /usr/local/lib/python3.10/dist-packages (from anyio->httpx<1,>=0.23.0->langsmith<0.3,>=0.1.17->langchain) (1.2.2)\n",
            "Requirement already satisfied: sentence-transformers in /usr/local/lib/python3.10/dist-packages (3.3.1)\n",
            "Requirement already satisfied: transformers<5.0.0,>=4.41.0 in /usr/local/lib/python3.10/dist-packages (from sentence-transformers) (4.47.1)\n",
            "Requirement already satisfied: tqdm in /usr/local/lib/python3.10/dist-packages (from sentence-transformers) (4.67.1)\n",
            "Requirement already satisfied: torch>=1.11.0 in /usr/local/lib/python3.10/dist-packages (from sentence-transformers) (2.5.1+cu121)\n",
            "Requirement already satisfied: scikit-learn in /usr/local/lib/python3.10/dist-packages (from sentence-transformers) (1.6.0)\n",
            "Requirement already satisfied: scipy in /usr/local/lib/python3.10/dist-packages (from sentence-transformers) (1.13.1)\n",
            "Requirement already satisfied: huggingface-hub>=0.20.0 in /usr/local/lib/python3.10/dist-packages (from sentence-transformers) (0.27.0)\n",
            "Requirement already satisfied: Pillow in /usr/local/lib/python3.10/dist-packages (from sentence-transformers) (11.0.0)\n",
            "Requirement already satisfied: filelock in /usr/local/lib/python3.10/dist-packages (from huggingface-hub>=0.20.0->sentence-transformers) (3.16.1)\n",
            "Requirement already satisfied: fsspec>=2023.5.0 in /usr/local/lib/python3.10/dist-packages (from huggingface-hub>=0.20.0->sentence-transformers) (2024.10.0)\n",
            "Requirement already satisfied: packaging>=20.9 in /usr/local/lib/python3.10/dist-packages (from huggingface-hub>=0.20.0->sentence-transformers) (24.2)\n",
            "Requirement already satisfied: pyyaml>=5.1 in /usr/local/lib/python3.10/dist-packages (from huggingface-hub>=0.20.0->sentence-transformers) (6.0.2)\n",
            "Requirement already satisfied: requests in /usr/local/lib/python3.10/dist-packages (from huggingface-hub>=0.20.0->sentence-transformers) (2.32.3)\n",
            "Requirement already satisfied: typing-extensions>=3.7.4.3 in /usr/local/lib/python3.10/dist-packages (from huggingface-hub>=0.20.0->sentence-transformers) (4.12.2)\n",
            "Requirement already satisfied: networkx in /usr/local/lib/python3.10/dist-packages (from torch>=1.11.0->sentence-transformers) (3.4.2)\n",
            "Requirement already satisfied: jinja2 in /usr/local/lib/python3.10/dist-packages (from torch>=1.11.0->sentence-transformers) (3.1.4)\n",
            "Requirement already satisfied: sympy==1.13.1 in /usr/local/lib/python3.10/dist-packages (from torch>=1.11.0->sentence-transformers) (1.13.1)\n",
            "Requirement already satisfied: mpmath<1.4,>=1.1.0 in /usr/local/lib/python3.10/dist-packages (from sympy==1.13.1->torch>=1.11.0->sentence-transformers) (1.3.0)\n",
            "Requirement already satisfied: numpy>=1.17 in /usr/local/lib/python3.10/dist-packages (from transformers<5.0.0,>=4.41.0->sentence-transformers) (1.26.4)\n",
            "Requirement already satisfied: regex!=2019.12.17 in /usr/local/lib/python3.10/dist-packages (from transformers<5.0.0,>=4.41.0->sentence-transformers) (2024.11.6)\n",
            "Requirement already satisfied: tokenizers<0.22,>=0.21 in /usr/local/lib/python3.10/dist-packages (from transformers<5.0.0,>=4.41.0->sentence-transformers) (0.21.0)\n",
            "Requirement already satisfied: safetensors>=0.4.1 in /usr/local/lib/python3.10/dist-packages (from transformers<5.0.0,>=4.41.0->sentence-transformers) (0.4.5)\n",
            "Requirement already satisfied: joblib>=1.2.0 in /usr/local/lib/python3.10/dist-packages (from scikit-learn->sentence-transformers) (1.4.2)\n",
            "Requirement already satisfied: threadpoolctl>=3.1.0 in /usr/local/lib/python3.10/dist-packages (from scikit-learn->sentence-transformers) (3.5.0)\n",
            "Requirement already satisfied: MarkupSafe>=2.0 in /usr/local/lib/python3.10/dist-packages (from jinja2->torch>=1.11.0->sentence-transformers) (3.0.2)\n",
            "Requirement already satisfied: charset-normalizer<4,>=2 in /usr/local/lib/python3.10/dist-packages (from requests->huggingface-hub>=0.20.0->sentence-transformers) (3.4.0)\n",
            "Requirement already satisfied: idna<4,>=2.5 in /usr/local/lib/python3.10/dist-packages (from requests->huggingface-hub>=0.20.0->sentence-transformers) (3.10)\n",
            "Requirement already satisfied: urllib3<3,>=1.21.1 in /usr/local/lib/python3.10/dist-packages (from requests->huggingface-hub>=0.20.0->sentence-transformers) (2.2.3)\n",
            "Requirement already satisfied: certifi>=2017.4.17 in /usr/local/lib/python3.10/dist-packages (from requests->huggingface-hub>=0.20.0->sentence-transformers) (2024.12.14)\n",
            "Requirement already satisfied: PyPDF2 in /usr/local/lib/python3.10/dist-packages (3.0.1)\n",
            "Requirement already satisfied: pinecone-client in /usr/local/lib/python3.10/dist-packages (5.0.1)\n",
            "Requirement already satisfied: certifi>=2019.11.17 in /usr/local/lib/python3.10/dist-packages (from pinecone-client) (2024.12.14)\n",
            "Requirement already satisfied: pinecone-plugin-inference<2.0.0,>=1.0.3 in /usr/local/lib/python3.10/dist-packages (from pinecone-client) (1.1.0)\n",
            "Requirement already satisfied: pinecone-plugin-interface<0.0.8,>=0.0.7 in /usr/local/lib/python3.10/dist-packages (from pinecone-client) (0.0.7)\n",
            "Requirement already satisfied: tqdm>=4.64.1 in /usr/local/lib/python3.10/dist-packages (from pinecone-client) (4.67.1)\n",
            "Requirement already satisfied: typing-extensions>=3.7.4 in /usr/local/lib/python3.10/dist-packages (from pinecone-client) (4.12.2)\n",
            "Requirement already satisfied: urllib3>=1.26.0 in /usr/local/lib/python3.10/dist-packages (from pinecone-client) (2.2.3)\n",
            "Requirement already satisfied: transformers in /usr/local/lib/python3.10/dist-packages (4.47.1)\n",
            "Requirement already satisfied: filelock in /usr/local/lib/python3.10/dist-packages (from transformers) (3.16.1)\n",
            "Requirement already satisfied: huggingface-hub<1.0,>=0.24.0 in /usr/local/lib/python3.10/dist-packages (from transformers) (0.27.0)\n",
            "Requirement already satisfied: numpy>=1.17 in /usr/local/lib/python3.10/dist-packages (from transformers) (1.26.4)\n",
            "Requirement already satisfied: packaging>=20.0 in /usr/local/lib/python3.10/dist-packages (from transformers) (24.2)\n",
            "Requirement already satisfied: pyyaml>=5.1 in /usr/local/lib/python3.10/dist-packages (from transformers) (6.0.2)\n",
            "Requirement already satisfied: regex!=2019.12.17 in /usr/local/lib/python3.10/dist-packages (from transformers) (2024.11.6)\n",
            "Requirement already satisfied: requests in /usr/local/lib/python3.10/dist-packages (from transformers) (2.32.3)\n",
            "Requirement already satisfied: tokenizers<0.22,>=0.21 in /usr/local/lib/python3.10/dist-packages (from transformers) (0.21.0)\n",
            "Requirement already satisfied: safetensors>=0.4.1 in /usr/local/lib/python3.10/dist-packages (from transformers) (0.4.5)\n",
            "Requirement already satisfied: tqdm>=4.27 in /usr/local/lib/python3.10/dist-packages (from transformers) (4.67.1)\n",
            "Requirement already satisfied: fsspec>=2023.5.0 in /usr/local/lib/python3.10/dist-packages (from huggingface-hub<1.0,>=0.24.0->transformers) (2024.10.0)\n",
            "Requirement already satisfied: typing-extensions>=3.7.4.3 in /usr/local/lib/python3.10/dist-packages (from huggingface-hub<1.0,>=0.24.0->transformers) (4.12.2)\n",
            "Requirement already satisfied: charset-normalizer<4,>=2 in /usr/local/lib/python3.10/dist-packages (from requests->transformers) (3.4.0)\n",
            "Requirement already satisfied: idna<4,>=2.5 in /usr/local/lib/python3.10/dist-packages (from requests->transformers) (3.10)\n",
            "Requirement already satisfied: urllib3<3,>=1.21.1 in /usr/local/lib/python3.10/dist-packages (from requests->transformers) (2.2.3)\n",
            "Requirement already satisfied: certifi>=2017.4.17 in /usr/local/lib/python3.10/dist-packages (from requests->transformers) (2024.12.14)\n",
            "Requirement already satisfied: fpdf in /usr/local/lib/python3.10/dist-packages (1.7.2)\n"
          ]
        }
      ],
      "source": [
        "!pip install langchain\n",
        "!pip install sentence-transformers\n",
        "!pip install PyPDF2\n",
        "!pip install pinecone-client\n",
        "!pip install transformers\n",
        "!pip install fpdf"
      ]
    },
    {
      "cell_type": "code",
      "source": [
        "import os\n",
        "from PyPDF2 import PdfReader\n",
        "import math\n",
        "from transformers import (\n",
        "    MBartForConditionalGeneration,\n",
        "    MBart50TokenizerFast,\n",
        ")\n",
        "from getpass import getpass\n",
        "import torch\n",
        "from torch.cuda.amp import autocast"
      ],
      "metadata": {
        "id": "Mi2RzF0Z163y"
      },
      "execution_count": 16,
      "outputs": []
    },
    {
      "cell_type": "code",
      "source": [
        "# Function to read the PDF content\n",
        "def read_pdf(file_path):\n",
        "    \"\"\"\n",
        "    Reads text from a PDF file.\n",
        "\n",
        "    Args:\n",
        "        file_path (str): Path to the PDF file.\n",
        "\n",
        "    Returns:\n",
        "        str: Combined text of all pages.\n",
        "    \"\"\"\n",
        "    reader = PdfReader(file_path)\n",
        "    text = \"\"\n",
        "    for page in reader.pages:\n",
        "        text += page.extract_text() + \"\\n\"\n",
        "    return text.strip()"
      ],
      "metadata": {
        "id": "C6OsoswP2OoC"
      },
      "execution_count": 17,
      "outputs": []
    },
    {
      "cell_type": "code",
      "source": [
        "# Function to split content into chunks\n",
        "def create_chunks(text, chunk_size, overlap):\n",
        "    \"\"\"\n",
        "    Splits text into chunks with overlapping context.\n",
        "\n",
        "    Args:\n",
        "        text (str): The input text.\n",
        "        chunk_size (int): The maximum size of each chunk (characters).\n",
        "        overlap (int): The number of overlapping characters between chunks.\n",
        "\n",
        "    Returns:\n",
        "        list: List of text chunks.\n",
        "    \"\"\"\n",
        "    words = text.split()\n",
        "    chunks = []\n",
        "    current_chunk = []\n",
        "    current_length = 0\n",
        "\n",
        "    for word in words:\n",
        "        word_length = len(word) + 1\n",
        "        if current_length + word_length > chunk_size:\n",
        "            chunks.append(\" \".join(current_chunk))\n",
        "            overlap_words = (\n",
        "                current_chunk[-math.ceil(overlap / len(current_chunk)) :]\n",
        "                if current_chunk\n",
        "                else []\n",
        "            )\n",
        "            current_chunk = overlap_words\n",
        "            current_length = sum(len(w) + 1 for w in current_chunk)\n",
        "\n",
        "        current_chunk.append(word)\n",
        "        current_length += word_length\n",
        "\n",
        "    if current_chunk:\n",
        "        chunks.append(\" \".join(current_chunk))\n",
        "\n",
        "    return chunks"
      ],
      "metadata": {
        "id": "afxjFlMF2UA3"
      },
      "execution_count": 18,
      "outputs": []
    },
    {
      "cell_type": "code",
      "source": [
        "file_path = \"/content/AFFAIRE C.P. ET M.N. c. FRANCE.pdf\"\n",
        "document_text = read_pdf(file_path)\n",
        "chunks = create_chunks(document_text, chunk_size=3000, overlap=500)"
      ],
      "metadata": {
        "id": "TScnf7Xa2WtO"
      },
      "execution_count": 19,
      "outputs": []
    },
    {
      "cell_type": "code",
      "source": [
        "len(chunks)"
      ],
      "metadata": {
        "colab": {
          "base_uri": "https://localhost:8080/"
        },
        "id": "yOAxuzCl2ikH",
        "outputId": "2c5066d3-4c72-4422-c9f0-ea24738df945"
      },
      "execution_count": 20,
      "outputs": [
        {
          "output_type": "execute_result",
          "data": {
            "text/plain": [
              "17"
            ]
          },
          "metadata": {},
          "execution_count": 20
        }
      ]
    },
    {
      "cell_type": "code",
      "source": [
        "os.environ[\"HUGGINGFACEHUB_API_TOKEN\"] = getpass(\"Enter your Hugging Face API token: \")"
      ],
      "metadata": {
        "colab": {
          "base_uri": "https://localhost:8080/"
        },
        "id": "BVPck6iE2jzX",
        "outputId": "e12e60b4-cc1d-4bad-ee2c-6c2ae67517fa"
      },
      "execution_count": 21,
      "outputs": [
        {
          "name": "stdout",
          "output_type": "stream",
          "text": [
            "Enter your Hugging Face API token: ··········\n"
          ]
        }
      ]
    },
    {
      "cell_type": "code",
      "source": [
        "model_name = \"facebook/mbart-large-50-many-to-one-mmt\"\n",
        "model = MBartForConditionalGeneration.from_pretrained(model_name)\n",
        "tokenizer = MBart50TokenizerFast.from_pretrained(model_name)"
      ],
      "metadata": {
        "id": "KUZBUfAR2mY5"
      },
      "execution_count": 22,
      "outputs": []
    },
    {
      "cell_type": "code",
      "source": [
        "device = \"cuda\" if torch.cuda.is_available() else \"cpu\"\n",
        "model.to(device)"
      ],
      "metadata": {
        "colab": {
          "base_uri": "https://localhost:8080/"
        },
        "id": "plLxN3B-7Vlt",
        "outputId": "351bd944-eeb1-42f3-e185-e8fb8947da09"
      },
      "execution_count": 23,
      "outputs": [
        {
          "output_type": "execute_result",
          "data": {
            "text/plain": [
              "MBartForConditionalGeneration(\n",
              "  (model): MBartModel(\n",
              "    (shared): MBartScaledWordEmbedding(250054, 1024, padding_idx=1)\n",
              "    (encoder): MBartEncoder(\n",
              "      (embed_tokens): MBartScaledWordEmbedding(250054, 1024, padding_idx=1)\n",
              "      (embed_positions): MBartLearnedPositionalEmbedding(1026, 1024)\n",
              "      (layers): ModuleList(\n",
              "        (0-11): 12 x MBartEncoderLayer(\n",
              "          (self_attn): MBartSdpaAttention(\n",
              "            (k_proj): Linear(in_features=1024, out_features=1024, bias=True)\n",
              "            (v_proj): Linear(in_features=1024, out_features=1024, bias=True)\n",
              "            (q_proj): Linear(in_features=1024, out_features=1024, bias=True)\n",
              "            (out_proj): Linear(in_features=1024, out_features=1024, bias=True)\n",
              "          )\n",
              "          (self_attn_layer_norm): LayerNorm((1024,), eps=1e-05, elementwise_affine=True)\n",
              "          (activation_fn): ReLU()\n",
              "          (fc1): Linear(in_features=1024, out_features=4096, bias=True)\n",
              "          (fc2): Linear(in_features=4096, out_features=1024, bias=True)\n",
              "          (final_layer_norm): LayerNorm((1024,), eps=1e-05, elementwise_affine=True)\n",
              "        )\n",
              "      )\n",
              "      (layernorm_embedding): LayerNorm((1024,), eps=1e-05, elementwise_affine=True)\n",
              "      (layer_norm): LayerNorm((1024,), eps=1e-05, elementwise_affine=True)\n",
              "    )\n",
              "    (decoder): MBartDecoder(\n",
              "      (embed_tokens): MBartScaledWordEmbedding(250054, 1024, padding_idx=1)\n",
              "      (embed_positions): MBartLearnedPositionalEmbedding(1026, 1024)\n",
              "      (layers): ModuleList(\n",
              "        (0-11): 12 x MBartDecoderLayer(\n",
              "          (self_attn): MBartSdpaAttention(\n",
              "            (k_proj): Linear(in_features=1024, out_features=1024, bias=True)\n",
              "            (v_proj): Linear(in_features=1024, out_features=1024, bias=True)\n",
              "            (q_proj): Linear(in_features=1024, out_features=1024, bias=True)\n",
              "            (out_proj): Linear(in_features=1024, out_features=1024, bias=True)\n",
              "          )\n",
              "          (activation_fn): ReLU()\n",
              "          (self_attn_layer_norm): LayerNorm((1024,), eps=1e-05, elementwise_affine=True)\n",
              "          (encoder_attn): MBartSdpaAttention(\n",
              "            (k_proj): Linear(in_features=1024, out_features=1024, bias=True)\n",
              "            (v_proj): Linear(in_features=1024, out_features=1024, bias=True)\n",
              "            (q_proj): Linear(in_features=1024, out_features=1024, bias=True)\n",
              "            (out_proj): Linear(in_features=1024, out_features=1024, bias=True)\n",
              "          )\n",
              "          (encoder_attn_layer_norm): LayerNorm((1024,), eps=1e-05, elementwise_affine=True)\n",
              "          (fc1): Linear(in_features=1024, out_features=4096, bias=True)\n",
              "          (fc2): Linear(in_features=4096, out_features=1024, bias=True)\n",
              "          (final_layer_norm): LayerNorm((1024,), eps=1e-05, elementwise_affine=True)\n",
              "        )\n",
              "      )\n",
              "      (layernorm_embedding): LayerNorm((1024,), eps=1e-05, elementwise_affine=True)\n",
              "      (layer_norm): LayerNorm((1024,), eps=1e-05, elementwise_affine=True)\n",
              "    )\n",
              "  )\n",
              "  (lm_head): Linear(in_features=1024, out_features=250054, bias=False)\n",
              ")"
            ]
          },
          "metadata": {},
          "execution_count": 23
        }
      ]
    },
    {
      "cell_type": "code",
      "source": [
        "def translate_chunks(chunks, src_lang, batch_size):\n",
        "    \"\"\"\n",
        "    Translates a list of text chunks into English using MBart50.\n",
        "\n",
        "    Args:\n",
        "        chunks (list): List of text chunks in the source language.\n",
        "        src_lang (str): Source language code.\n",
        "        batch_size (int): Number of chunks to process in a single batch.\n",
        "\n",
        "    Returns:\n",
        "        list: Translated text chunks in English.\n",
        "    \"\"\"\n",
        "    translations = []\n",
        "    tokenizer.src_lang = src_lang\n",
        "\n",
        "    for i in range(0, len(chunks), batch_size):\n",
        "        batch = chunks[i:i + batch_size]\n",
        "        encoded_input = tokenizer(batch, return_tensors=\"pt\", padding=True, truncation=True).to(device)\n",
        "\n",
        "        with autocast():\n",
        "            generated_tokens = model.generate(\n",
        "                **encoded_input,\n",
        "                max_length=128,\n",
        "                num_beams=1\n",
        "            )\n",
        "\n",
        "        # Decode translations\n",
        "        batch_translations = tokenizer.batch_decode(generated_tokens, skip_special_tokens=True)\n",
        "        translations.extend(batch_translations)\n",
        "\n",
        "    return translations"
      ],
      "metadata": {
        "id": "VGxVv4T92yDO"
      },
      "execution_count": 24,
      "outputs": []
    },
    {
      "cell_type": "code",
      "source": [
        "# Chunk translation\n",
        "translated_chunks = translate_chunks(chunks, src_lang=\"fr_XX\", batch_size=8)"
      ],
      "metadata": {
        "id": "__cB0tpL23nq",
        "outputId": "10029c2b-4bcc-46d3-c129-832f3f702c20",
        "colab": {
          "base_uri": "https://localhost:8080/"
        }
      },
      "execution_count": 25,
      "outputs": [
        {
          "output_type": "stream",
          "name": "stderr",
          "text": [
            "Asking to truncate to max_length but no maximum length is provided and the model has no predefined maximum length. Default to no truncation.\n",
            "<ipython-input-24-ed11d12a2b4e>:20: FutureWarning: `torch.cuda.amp.autocast(args...)` is deprecated. Please use `torch.amp.autocast('cuda', args...)` instead.\n",
            "  with autocast():\n"
          ]
        }
      ]
    },
    {
      "cell_type": "code",
      "source": [
        "for i, translation in enumerate(translated_chunks, 1):\n",
        "    print(f\"Chunk {i} Translation:\\n{translation}\\n\")"
      ],
      "metadata": {
        "colab": {
          "base_uri": "https://localhost:8080/"
        },
        "id": "s2AZ34Mr7fj8",
        "outputId": "bc5a61f2-2331-4d10-8a2c-893adcb2a168"
      },
      "execution_count": 26,
      "outputs": [
        {
          "output_type": "stream",
          "name": "stdout",
          "text": [
            "Chunk 1 Translation:\n",
            "PART FIVE Case C.P. and M.N. v. FRANCE (Applications Nos. 56513/17 and 56515/17) JUDGMENT Art 8 Privacy and family life Refusal by the domestic courts to examine the action of the applicant, claiming to be the biological father of a child, challenging the legally established paternity with a view to establishing his own, in application of the rules for calculating the five-year limitation period combined with the obligation to bring the child before the courts in the case Applicant having failed\n",
            "\n",
            "Chunk 2 Translation:\n",
            "The applicant’s former partner had recognised the latter before his birth on 4 December 2007. JUDGMENT C.P. and M.N. v. FRANCE 25. At the beginning of March 2012, the applicant left her former partner and entered into a civil solidarity pact (PACS) with the applicant on 14 March 2012. 6. On 12 December 2012, the applicant applied to the Family Court (JAF) for the measures relating to the two children to be fixed and requested the establishment of an alternate residence. In the course of the proceedings, she\n",
            "\n",
            "Chunk 3 Translation:\n",
            "The Court held that the action for paternity challenge was inadmissible on the basis of Article 333(2) of the Civil Code, which provides as follows: JUDGMENT C.P. and M.N. v. FRANCE 3 \"... no one, except the Public Prosecutor’s Office, may challenge filiation where possession of a state in conformity with a recognition has lasted at least five years from birth or the recognition, if it was made subsequently (...).\" 13. Furthermore, it found, first, that the child had been brought before the Court only on\n",
            "\n",
            "Chunk 4 Translation:\n",
            ", [N.] (...); (...) it should be noted that the mother’s application [for the determination of the residence of the children] dated 12 December 2012 at the very time when [the applicant] was issuing the paternity challenge order [and that] it is in vain to maintain that these two proceedings pursue different aims when they both concern the situation of [N.]; ORDER C.P. and M.N. v. FRANCE 4(...) furthermore, regardless of the revelation made to [the legal father] that he would not be\n",
            "\n",
            "Chunk 5 Translation:\n",
            "The Court of Appeal, which thus conducted a search allegedly omitted from the balance of interests in the case, has legally justified its decision; (...)\" THE RELEVANT LEGAL FRAMEWORK AND INTERNAL PRACTICE I. THE NOTION OF STATE HOLDING IN RESPECT OF THE CHILD Article 332 of the Civil Code provides that paternity may be challenged by referring to evidence that the author of the recognition is not the father. JUDGMENT C.P. and M.N. v. FRANCE 5In addition\n",
            "\n",
            "Chunk 6 Translation:\n",
            "65, and Civ. 1, 27 October 1992, Appeal No 91-11.751, Bull. civ. I, No 273). 21. Pursuant to Article 311-2 of the Civil Code, possession of the State must also be continuous, peaceful, public and unequivocal. Possession of the State must not, in particular, have been obtained by means of coercion, pressure or violence (Civ. 1, 7 November 2018, No 17-26.445). As regards the continuity required, it does not necessarily involve a community of life or constant relations\n",
            "\n",
            "Chunk 7 Translation:\n",
            "The Court of Cassation also held, on the basis of Article 8 of the Convention, that if the application of a limitation period or a limitation period limiting a person’s right to have his paternity link recognised constitutes an interference with the exercise of the right to respect for his private and family life guaranteed by Article 8 of the Convention, the objective of the opposite non-receipt provided for in Article 333 of the Civil Code pursues a legitimate aim, in that it seeks to protect the rights and freedoms of third parties and legal certainty. Noting\n",
            "\n",
            "Chunk 8 Translation:\n",
            "The same applies where the application is brought before an incompetent court or where the document lodged with the court is annulled as a result of a procedural defect.’ It emerges from the parliamentary debate that, although the legislature wished that a simple procedural error should not prevent the interruption of a time limit, it did not wish to extend that interrupting effect to situations where inadmissibility penalises the applicant’s lack of diligence (Report to the Senate (No 83) by Mr L. Beteille, p.47– Same reasoning as\n",
            "\n",
            "Chunk 9 Translation:\n",
            "A. Admissibility 32. The Court finds that the applicants complain of a violation of their right to respect for their private and family life. The Court recalls that the concept of \"family life\" referred to in Article 8 of the Convention is not limited to marriage-based relationships and may include other de facto \"family\" relationships (Keegan v. Ireland, 26 May 1994, § 44, Series A No 290, and Kroon and Others v. The Netherlands, 27 October 1994, § 30, Series A No 297-C). Furthermore, without there being any need to determine\n",
            "\n",
            "Chunk 10 Translation:\n",
            "They consider that the courts have not sufficiently taken into account the particular circumstances of the case, in particular the knowledge by the legal father of the facts relating to N’s paternal filiation. 36. Based on the judgments of the Court of Justice in Kautzor v. Germany (No 23338/09, § 73, 22 March 2012), Jäggi v. Switzerland (No 58757/00, § 38, ECHR 2006-X), and Lacárcel Menéndez v. Spain (No 41745/02, 15 June 2006), the applicants maintain that the national authorities\n",
            "\n",
            "Chunk 11 Translation:\n",
            "32495/15, §§ 56-58, 13 October 2020). However, even in the case of limited control, the choices made by the State are not without their examination by the Court. The Court must examine, in the light of the whole case, the grounds on which it has taken account JUDGMENT C.P. and M.N. v. FRANCE 11in order to arrive at the solution chosen and to ascertain whether a fair balance has been struck between the different interests involved. In so doing, it must pay particular attention to the essential principle that,\n",
            "\n",
            "Chunk 12 Translation:\n",
            "44. The Court takes into account, in particular, the decision-making process and checks that it contained certain safeguards, such as a detailed examination of the facts by the competent authorities, a balance between the various interests at stake by those authorities or the possibility for the applicant to state his position and personal situation in such a way as to ensure the necessary protection of his interests (Ahrens, paragraph 76, and Krisztián Barnabás Tóth, paragraphs 33 and 36). JUDGMENT of the Court of Justice of the European Communities and of the Court of\n",
            "\n",
            "Chunk 13 Translation:\n",
            "Nor is it disputed that the purpose of the refusal to examine the action for paternity was \"the protection of the rights and freedoms of others\" and that that objective, aimed at fostering filiation corresponding to social and family reality, may justify a limitation of the possibility of establishing biological paternity (Ahrens, cited above, §§ 74-75, and mutatis mutandis Fröhlich, cited above, § 42). 48. The Court notes that the applicants essentially dispute the predictability and clarity of the rules concerning the\n",
            "\n",
            "Chunk 14 Translation:\n",
            "The Court notes that he had then more than one month to regularise his action, the time limit for bringing proceedings expiring on 25 December 2012, which left him sufficient time to comply with the rules of procedure. The applicants have not, as such, submitted any evidence before the domestic courts and the Court of Justice capable of demonstrating that the applicant, represented before the court of first instance by a lawyer, could ignore the existence of this constant rule in domestic law, since it applies both before and after the reform of the law on filiation (paragraphs 18 and 27\n",
            "\n",
            "Chunk 15 Translation:\n",
            "In the circumstances of the case, the Court therefore sees no reason to depart from the conclusions of the domestic courts, which appear neither arbitrary nor unreasonable. 54. Furthermore, the Court notes that the Court of Appeal based its refusal to examine the applicant’s application for a declaration of paternity not only on the fact that the child already had an established relationship of filiation, but also on the best interests of the applicant, who was then only seven years old and was caught in a conflict of loyalty with his mother and legal father\n",
            "\n",
            "Chunk 16 Translation:\n",
            "The Court of First Instance 1.Decided, unanimously, to join the applications; 2.Declared, unanimously, the applications admissible; 3.Decided, by six votes to one, that there was no violation of Article 8 of the Convention. JUDGMENT C.P. and M.N. v. FRANCE 16Failed in French, then communicated in writing on 12 October 2023, pursuant to Article 77 §§ 2 and 3 of the Rules of Procedure. Martina Keller Georges Ravarani Deputy Registrar President This judgment\n",
            "\n",
            "Chunk 17 Translation:\n",
            "Finally, while the applicant was opposed by the national courts to the stay of his action by first instance judgment of 21 October 2014, confirmed on appeal on 22 September 2015 and by cassation on 1 February 2017, on the grounds that the proceedings should have taken place before 25 December 2012, how can it be explained that the court of first instance reopened the proceedings on 17 December 2013 in order to request the appointment of a director to represent the child? This decision, which requires a hearing after 24 December 2012, can only be understood as a validation by the national courts of a regularisation\n",
            "\n"
          ]
        }
      ]
    },
    {
      "cell_type": "code",
      "source": [
        "from sentence_transformers import SentenceTransformer\n",
        "from pinecone import Pinecone, ServerlessSpec"
      ],
      "metadata": {
        "id": "msbHRh_VGVqr"
      },
      "execution_count": 43,
      "outputs": []
    },
    {
      "cell_type": "code",
      "source": [
        "pc = Pinecone(api_key=getpass(\"Enter your Pinecone API token: \"))"
      ],
      "metadata": {
        "colab": {
          "base_uri": "https://localhost:8080/"
        },
        "id": "VHAt3gR5GqcF",
        "outputId": "47937e4f-59c6-4bbf-9a3d-dcf11b7e295c"
      },
      "execution_count": 44,
      "outputs": [
        {
          "name": "stdout",
          "output_type": "stream",
          "text": [
            "Enter your Pinecone API token: ··········\n"
          ]
        }
      ]
    },
    {
      "cell_type": "code",
      "source": [
        "index_name = \"legal-llm\"\n",
        "if index_name in pc.list_indexes().names():\n",
        "    pc.delete_index(index_name)\n",
        "\n",
        "pc.create_index(\n",
        "    name=index_name,\n",
        "    dimension=384,\n",
        "    metric=\"cosine\",\n",
        "    spec=ServerlessSpec(cloud=\"aws\", region=\"us-east-1\")\n",
        ")\n",
        "\n",
        "index = pc.Index(index_name)"
      ],
      "metadata": {
        "id": "csDX4fleGhFF"
      },
      "execution_count": 49,
      "outputs": []
    },
    {
      "cell_type": "code",
      "source": [
        "embedding_model = SentenceTransformer('sentence-transformers/all-MiniLM-L6-v2')\n",
        "\n",
        "embeddings = embedding_model.encode(translated_chunks)\n",
        "\n",
        "for i, chunk in enumerate(translated_chunks):\n",
        "    index.upsert(vectors=[(f\"doc_{i}\", embeddings[i], {\"text\": chunk})])\n",
        "\n",
        "print(\"Translated chunks embedded and stored in Pinecone.\")"
      ],
      "metadata": {
        "colab": {
          "base_uri": "https://localhost:8080/"
        },
        "id": "Hvz9CePxHNvn",
        "outputId": "b9091625-44c7-43a8-cbb7-ea9468f49c69"
      },
      "execution_count": 50,
      "outputs": [
        {
          "output_type": "stream",
          "name": "stdout",
          "text": [
            "Translated chunks embedded and stored in Pinecone.\n"
          ]
        }
      ]
    }
  ]
}