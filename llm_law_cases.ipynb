{
  "nbformat": 4,
  "nbformat_minor": 0,
  "metadata": {
    "colab": {
      "provenance": [],
      "gpuType": "T4"
    },
    "kernelspec": {
      "name": "python3",
      "display_name": "Python 3"
    },
    "language_info": {
      "name": "python"
    },
    "accelerator": "GPU"
  },
  "cells": [
    {
      "cell_type": "code",
      "execution_count": null,
      "metadata": {
        "colab": {
          "base_uri": "https://localhost:8080/"
        },
        "id": "McgCntzRYy2d",
        "outputId": "086ed908-26c4-4623-ae1c-c80dd08219d5"
      },
      "outputs": [
        {
          "output_type": "stream",
          "name": "stdout",
          "text": [
            "Drive already mounted at /content/drive; to attempt to forcibly remount, call drive.mount(\"/content/drive\", force_remount=True).\n"
          ]
        }
      ],
      "source": [
        "from google.colab import drive\n",
        "drive.mount('/content/drive')"
      ]
    },
    {
      "cell_type": "code",
      "source": [
        "%cd /content/drive/My Drive/nlp_project"
      ],
      "metadata": {
        "colab": {
          "base_uri": "https://localhost:8080/"
        },
        "id": "75NY7gkBlIwK",
        "outputId": "095136df-f673-4f4f-d296-6ab83705ef32"
      },
      "execution_count": null,
      "outputs": [
        {
          "output_type": "stream",
          "name": "stdout",
          "text": [
            "/content/drive/My Drive/nlp_project\n"
          ]
        }
      ]
    },
    {
      "cell_type": "code",
      "source": [
        "%ls Documents"
      ],
      "metadata": {
        "colab": {
          "base_uri": "https://localhost:8080/"
        },
        "id": "1jq8AVgwldoO",
        "outputId": "c019e41b-1d10-49c3-b545-1bb4195305a1"
      },
      "execution_count": null,
      "outputs": [
        {
          "output_type": "stream",
          "name": "stdout",
          "text": [
            "'AFFAIRE A.A.K. c. TÜRKiYE.pdf'\n"
          ]
        }
      ]
    },
    {
      "cell_type": "code",
      "source": [
        "import os\n",
        "os.getcwd()"
      ],
      "metadata": {
        "colab": {
          "base_uri": "https://localhost:8080/",
          "height": 36
        },
        "id": "3ThuJaJylp_L",
        "outputId": "523934be-1e32-4f9c-8c13-ae151e491358"
      },
      "execution_count": null,
      "outputs": [
        {
          "output_type": "execute_result",
          "data": {
            "text/plain": [
              "'/content/drive/My Drive/nlp_project'"
            ],
            "application/vnd.google.colaboratory.intrinsic+json": {
              "type": "string"
            }
          },
          "metadata": {},
          "execution_count": 44
        }
      ]
    },
    {
      "cell_type": "code",
      "source": [
        "!ls"
      ],
      "metadata": {
        "colab": {
          "base_uri": "https://localhost:8080/"
        },
        "id": "ECkyTnGvmVuH",
        "outputId": "0a40b5fe-c664-454b-e2fc-1198c3908c7d"
      },
      "execution_count": null,
      "outputs": [
        {
          "output_type": "stream",
          "name": "stdout",
          "text": [
            "Documents  requirements.txt\n"
          ]
        }
      ]
    },
    {
      "cell_type": "code",
      "source": [
        "!pip install -r requirements.txt"
      ],
      "metadata": {
        "colab": {
          "base_uri": "https://localhost:8080/"
        },
        "id": "Zl59ennBmXwH",
        "outputId": "28952653-a4a5-4239-e845-595f0c92ca87"
      },
      "execution_count": null,
      "outputs": [
        {
          "output_type": "stream",
          "name": "stdout",
          "text": [
            "Requirement already satisfied: langchain==0.1.4 in /usr/local/lib/python3.10/dist-packages (from -r requirements.txt (line 1)) (0.1.4)\n",
            "Requirement already satisfied: pinecone-client==3.0.1 in /usr/local/lib/python3.10/dist-packages (from -r requirements.txt (line 2)) (3.0.1)\n",
            "Requirement already satisfied: pypdf==4.0.1 in /usr/local/lib/python3.10/dist-packages (from -r requirements.txt (line 3)) (4.0.1)\n",
            "Requirement already satisfied: sentence-transformers in /usr/local/lib/python3.10/dist-packages (from -r requirements.txt (line 4)) (2.5.0)\n",
            "Requirement already satisfied: PyYAML>=5.3 in /usr/local/lib/python3.10/dist-packages (from langchain==0.1.4->-r requirements.txt (line 1)) (6.0.1)\n",
            "Requirement already satisfied: SQLAlchemy<3,>=1.4 in /usr/local/lib/python3.10/dist-packages (from langchain==0.1.4->-r requirements.txt (line 1)) (2.0.27)\n",
            "Requirement already satisfied: aiohttp<4.0.0,>=3.8.3 in /usr/local/lib/python3.10/dist-packages (from langchain==0.1.4->-r requirements.txt (line 1)) (3.9.3)\n",
            "Requirement already satisfied: async-timeout<5.0.0,>=4.0.0 in /usr/local/lib/python3.10/dist-packages (from langchain==0.1.4->-r requirements.txt (line 1)) (4.0.3)\n",
            "Requirement already satisfied: dataclasses-json<0.7,>=0.5.7 in /usr/local/lib/python3.10/dist-packages (from langchain==0.1.4->-r requirements.txt (line 1)) (0.6.4)\n",
            "Requirement already satisfied: jsonpatch<2.0,>=1.33 in /usr/local/lib/python3.10/dist-packages (from langchain==0.1.4->-r requirements.txt (line 1)) (1.33)\n",
            "Requirement already satisfied: langchain-community<0.1,>=0.0.14 in /usr/local/lib/python3.10/dist-packages (from langchain==0.1.4->-r requirements.txt (line 1)) (0.0.20)\n",
            "Requirement already satisfied: langchain-core<0.2,>=0.1.16 in /usr/local/lib/python3.10/dist-packages (from langchain==0.1.4->-r requirements.txt (line 1)) (0.1.23)\n",
            "Requirement already satisfied: langsmith<0.1,>=0.0.83 in /usr/local/lib/python3.10/dist-packages (from langchain==0.1.4->-r requirements.txt (line 1)) (0.0.87)\n",
            "Requirement already satisfied: numpy<2,>=1 in /usr/local/lib/python3.10/dist-packages (from langchain==0.1.4->-r requirements.txt (line 1)) (1.25.2)\n",
            "Requirement already satisfied: pydantic<3,>=1 in /usr/local/lib/python3.10/dist-packages (from langchain==0.1.4->-r requirements.txt (line 1)) (2.6.3)\n",
            "Requirement already satisfied: requests<3,>=2 in /usr/local/lib/python3.10/dist-packages (from langchain==0.1.4->-r requirements.txt (line 1)) (2.31.0)\n",
            "Requirement already satisfied: tenacity<9.0.0,>=8.1.0 in /usr/local/lib/python3.10/dist-packages (from langchain==0.1.4->-r requirements.txt (line 1)) (8.2.3)\n",
            "Requirement already satisfied: certifi>=2019.11.17 in /usr/local/lib/python3.10/dist-packages (from pinecone-client==3.0.1->-r requirements.txt (line 2)) (2024.2.2)\n",
            "Requirement already satisfied: tqdm>=4.64.1 in /usr/local/lib/python3.10/dist-packages (from pinecone-client==3.0.1->-r requirements.txt (line 2)) (4.66.2)\n",
            "Requirement already satisfied: typing-extensions>=3.7.4 in /usr/local/lib/python3.10/dist-packages (from pinecone-client==3.0.1->-r requirements.txt (line 2)) (4.10.0)\n",
            "Requirement already satisfied: urllib3>=1.26.0 in /usr/local/lib/python3.10/dist-packages (from pinecone-client==3.0.1->-r requirements.txt (line 2)) (2.0.7)\n",
            "Requirement already satisfied: transformers<5.0.0,>=4.32.0 in /usr/local/lib/python3.10/dist-packages (from sentence-transformers->-r requirements.txt (line 4)) (4.38.1)\n",
            "Requirement already satisfied: torch>=1.11.0 in /usr/local/lib/python3.10/dist-packages (from sentence-transformers->-r requirements.txt (line 4)) (2.1.0+cu121)\n",
            "Requirement already satisfied: scikit-learn in /usr/local/lib/python3.10/dist-packages (from sentence-transformers->-r requirements.txt (line 4)) (1.2.2)\n",
            "Requirement already satisfied: scipy in /usr/local/lib/python3.10/dist-packages (from sentence-transformers->-r requirements.txt (line 4)) (1.11.4)\n",
            "Requirement already satisfied: huggingface-hub>=0.15.1 in /usr/local/lib/python3.10/dist-packages (from sentence-transformers->-r requirements.txt (line 4)) (0.20.3)\n",
            "Requirement already satisfied: Pillow in /usr/local/lib/python3.10/dist-packages (from sentence-transformers->-r requirements.txt (line 4)) (9.4.0)\n",
            "Requirement already satisfied: aiosignal>=1.1.2 in /usr/local/lib/python3.10/dist-packages (from aiohttp<4.0.0,>=3.8.3->langchain==0.1.4->-r requirements.txt (line 1)) (1.3.1)\n",
            "Requirement already satisfied: attrs>=17.3.0 in /usr/local/lib/python3.10/dist-packages (from aiohttp<4.0.0,>=3.8.3->langchain==0.1.4->-r requirements.txt (line 1)) (23.2.0)\n",
            "Requirement already satisfied: frozenlist>=1.1.1 in /usr/local/lib/python3.10/dist-packages (from aiohttp<4.0.0,>=3.8.3->langchain==0.1.4->-r requirements.txt (line 1)) (1.4.1)\n",
            "Requirement already satisfied: multidict<7.0,>=4.5 in /usr/local/lib/python3.10/dist-packages (from aiohttp<4.0.0,>=3.8.3->langchain==0.1.4->-r requirements.txt (line 1)) (6.0.5)\n",
            "Requirement already satisfied: yarl<2.0,>=1.0 in /usr/local/lib/python3.10/dist-packages (from aiohttp<4.0.0,>=3.8.3->langchain==0.1.4->-r requirements.txt (line 1)) (1.9.4)\n",
            "Requirement already satisfied: marshmallow<4.0.0,>=3.18.0 in /usr/local/lib/python3.10/dist-packages (from dataclasses-json<0.7,>=0.5.7->langchain==0.1.4->-r requirements.txt (line 1)) (3.21.0)\n",
            "Requirement already satisfied: typing-inspect<1,>=0.4.0 in /usr/local/lib/python3.10/dist-packages (from dataclasses-json<0.7,>=0.5.7->langchain==0.1.4->-r requirements.txt (line 1)) (0.9.0)\n",
            "Requirement already satisfied: filelock in /usr/local/lib/python3.10/dist-packages (from huggingface-hub>=0.15.1->sentence-transformers->-r requirements.txt (line 4)) (3.13.1)\n",
            "Requirement already satisfied: fsspec>=2023.5.0 in /usr/local/lib/python3.10/dist-packages (from huggingface-hub>=0.15.1->sentence-transformers->-r requirements.txt (line 4)) (2023.6.0)\n",
            "Requirement already satisfied: packaging>=20.9 in /usr/local/lib/python3.10/dist-packages (from huggingface-hub>=0.15.1->sentence-transformers->-r requirements.txt (line 4)) (23.2)\n",
            "Requirement already satisfied: jsonpointer>=1.9 in /usr/local/lib/python3.10/dist-packages (from jsonpatch<2.0,>=1.33->langchain==0.1.4->-r requirements.txt (line 1)) (2.4)\n",
            "Requirement already satisfied: anyio<5,>=3 in /usr/local/lib/python3.10/dist-packages (from langchain-core<0.2,>=0.1.16->langchain==0.1.4->-r requirements.txt (line 1)) (3.7.1)\n",
            "Requirement already satisfied: annotated-types>=0.4.0 in /usr/local/lib/python3.10/dist-packages (from pydantic<3,>=1->langchain==0.1.4->-r requirements.txt (line 1)) (0.6.0)\n",
            "Requirement already satisfied: pydantic-core==2.16.3 in /usr/local/lib/python3.10/dist-packages (from pydantic<3,>=1->langchain==0.1.4->-r requirements.txt (line 1)) (2.16.3)\n",
            "Requirement already satisfied: charset-normalizer<4,>=2 in /usr/local/lib/python3.10/dist-packages (from requests<3,>=2->langchain==0.1.4->-r requirements.txt (line 1)) (3.3.2)\n",
            "Requirement already satisfied: idna<4,>=2.5 in /usr/local/lib/python3.10/dist-packages (from requests<3,>=2->langchain==0.1.4->-r requirements.txt (line 1)) (3.6)\n",
            "Requirement already satisfied: greenlet!=0.4.17 in /usr/local/lib/python3.10/dist-packages (from SQLAlchemy<3,>=1.4->langchain==0.1.4->-r requirements.txt (line 1)) (3.0.3)\n",
            "Requirement already satisfied: sympy in /usr/local/lib/python3.10/dist-packages (from torch>=1.11.0->sentence-transformers->-r requirements.txt (line 4)) (1.12)\n",
            "Requirement already satisfied: networkx in /usr/local/lib/python3.10/dist-packages (from torch>=1.11.0->sentence-transformers->-r requirements.txt (line 4)) (3.2.1)\n",
            "Requirement already satisfied: jinja2 in /usr/local/lib/python3.10/dist-packages (from torch>=1.11.0->sentence-transformers->-r requirements.txt (line 4)) (3.1.3)\n",
            "Requirement already satisfied: triton==2.1.0 in /usr/local/lib/python3.10/dist-packages (from torch>=1.11.0->sentence-transformers->-r requirements.txt (line 4)) (2.1.0)\n",
            "Requirement already satisfied: regex!=2019.12.17 in /usr/local/lib/python3.10/dist-packages (from transformers<5.0.0,>=4.32.0->sentence-transformers->-r requirements.txt (line 4)) (2023.12.25)\n",
            "Requirement already satisfied: tokenizers<0.19,>=0.14 in /usr/local/lib/python3.10/dist-packages (from transformers<5.0.0,>=4.32.0->sentence-transformers->-r requirements.txt (line 4)) (0.15.2)\n",
            "Requirement already satisfied: safetensors>=0.4.1 in /usr/local/lib/python3.10/dist-packages (from transformers<5.0.0,>=4.32.0->sentence-transformers->-r requirements.txt (line 4)) (0.4.2)\n",
            "Requirement already satisfied: joblib>=1.1.1 in /usr/local/lib/python3.10/dist-packages (from scikit-learn->sentence-transformers->-r requirements.txt (line 4)) (1.3.2)\n",
            "Requirement already satisfied: threadpoolctl>=2.0.0 in /usr/local/lib/python3.10/dist-packages (from scikit-learn->sentence-transformers->-r requirements.txt (line 4)) (3.3.0)\n",
            "Requirement already satisfied: sniffio>=1.1 in /usr/local/lib/python3.10/dist-packages (from anyio<5,>=3->langchain-core<0.2,>=0.1.16->langchain==0.1.4->-r requirements.txt (line 1)) (1.3.1)\n",
            "Requirement already satisfied: exceptiongroup in /usr/local/lib/python3.10/dist-packages (from anyio<5,>=3->langchain-core<0.2,>=0.1.16->langchain==0.1.4->-r requirements.txt (line 1)) (1.2.0)\n",
            "Requirement already satisfied: mypy-extensions>=0.3.0 in /usr/local/lib/python3.10/dist-packages (from typing-inspect<1,>=0.4.0->dataclasses-json<0.7,>=0.5.7->langchain==0.1.4->-r requirements.txt (line 1)) (1.0.0)\n",
            "Requirement already satisfied: MarkupSafe>=2.0 in /usr/local/lib/python3.10/dist-packages (from jinja2->torch>=1.11.0->sentence-transformers->-r requirements.txt (line 4)) (2.1.5)\n",
            "Requirement already satisfied: mpmath>=0.19 in /usr/local/lib/python3.10/dist-packages (from sympy->torch>=1.11.0->sentence-transformers->-r requirements.txt (line 4)) (1.3.0)\n"
          ]
        }
      ]
    },
    {
      "cell_type": "code",
      "source": [
        "import pinecone\n",
        "from langchain.document_loaders import PyPDFDirectoryLoader\n",
        "from langchain.text_splitter import RecursiveCharacterTextSplitter\n",
        "from langchain_community.vectorstores import Pinecone\n",
        "from langchain.embeddings.sentence_transformer import SentenceTransformerEmbeddings"
      ],
      "metadata": {
        "id": "GBjP5X0Wmokf"
      },
      "execution_count": null,
      "outputs": []
    },
    {
      "cell_type": "code",
      "source": [
        "from langchain.llms import HuggingFaceHub\n",
        "import os\n",
        "from getpass import getpass\n",
        "os.environ[\"HUGGINGFACEHUB_API_TOKEN\"] = getpass(\"HF token\")"
      ],
      "metadata": {
        "colab": {
          "base_uri": "https://localhost:8080/"
        },
        "id": "6UrJcJ_ymvPF",
        "outputId": "88fc0721-9738-420f-ce64-5a83b2f57907"
      },
      "execution_count": null,
      "outputs": [
        {
          "name": "stdout",
          "output_type": "stream",
          "text": [
            "HF token··········\n"
          ]
        }
      ]
    },
    {
      "cell_type": "code",
      "source": [
        "def load_docs(directory):\n",
        "  loader = PyPDFDirectoryLoader(directory)\n",
        "  documents = loader.load()\n",
        "  return documents"
      ],
      "metadata": {
        "id": "B7kKd84Ymzad"
      },
      "execution_count": null,
      "outputs": []
    },
    {
      "cell_type": "code",
      "source": [
        "directory = 'Documents/'\n",
        "documents = load_docs(directory)\n",
        "len(documents)"
      ],
      "metadata": {
        "colab": {
          "base_uri": "https://localhost:8080/"
        },
        "id": "MYatn9b5m77Q",
        "outputId": "9169ea0d-e074-4c94-dcfd-f1f65879ef3f"
      },
      "execution_count": null,
      "outputs": [
        {
          "output_type": "execute_result",
          "data": {
            "text/plain": [
              "23"
            ]
          },
          "metadata": {},
          "execution_count": 50
        }
      ]
    },
    {
      "cell_type": "code",
      "source": [
        "documents[22]"
      ],
      "metadata": {
        "colab": {
          "base_uri": "https://localhost:8080/"
        },
        "id": "L7ec9MIMm99Z",
        "outputId": "dcf566d9-b212-4565-c272-e4fbd61d79e6"
      },
      "execution_count": null,
      "outputs": [
        {
          "output_type": "execute_result",
          "data": {
            "text/plain": [
              "Document(page_content='ARRÊT A.A.K. c. TÜRKİYE – OPINION SÉPARÉE\\n22eu des raisons solides pour examiner d’office s’il fallait désigner un autre \\navocat. Or il n’existe aucune trace d’un tel examen.\\n95.  Sixièmement, dès lors que l’on rappelle à nouveau le fait que la \\nrequérante n’était pas en mesure, selon le Gouvernement, de prendre des \\ndécisions éclairées pour son propre compte, le fait qu’elle n’ait pas demandé \\nau tribunal de désigner un nouvel avocat n’est guère pertinent. En outre, bien \\nque la requérante ait dénoncé dans son recours l’absence d’accès à un avocat, \\nla décision très succincte de la Cour de cassation ne porte aucune appréciation \\nsur cette question.\\n9.  Malgré les arguments que j’ai exposés ci-dessus, j’ai voté en faveur \\nd’un constat de non-violation de l’article 8. En effet, je souscris à l’avis de \\nmes collègues selon lequel, eu égard à l’ensemble des faits de l’affaire, \\nnotamment à toutes les mesures prises pour sauvegarder les intérêts de la \\nrequérante, il n’y a pas eu de manquement crucial dans la protection de la vie \\nprivée de la requérante telle que garantie par l’article 8 de la Convention.', metadata={'source': 'Documents/AFFAIRE A.A.K. c. TÜRKiYE.pdf', 'page': 22})"
            ]
          },
          "metadata": {},
          "execution_count": 81
        }
      ]
    },
    {
      "cell_type": "code",
      "source": [
        "# from transformers import AutoModelForSequenceClassification, AutoTokenizer\n",
        "# import torch\n",
        "\n",
        "# # Load pre-trained XLM-RoBERTa model and tokenizer\n",
        "# model_name = \"xlm-roberta-base\"\n",
        "# model = AutoModelForSequenceClassification.from_pretrained(model_name)\n",
        "# tokenizer = AutoTokenizer.from_pretrained(model_name)\n"
      ],
      "metadata": {
        "id": "bFVXQX5YnKJ6"
      },
      "execution_count": null,
      "outputs": []
    },
    {
      "cell_type": "code",
      "source": [
        "# # Define the text for language identification\n",
        "# text = \" Respect des biens\"\n",
        "\n",
        "# # Tokenize the text\n",
        "# inputs = tokenizer(text, return_tensors=\"pt\", padding=True, truncation=True)\n",
        "\n",
        "# # Forward pass through the model\n",
        "# outputs = model(**inputs)\n",
        "\n",
        "# # Get the predicted language\n",
        "# predicted_language_id = torch.argmax(outputs.logits, dim=1).item()\n",
        "\n",
        "# # Language codes corresponding to XLM-RoBERTa\n",
        "# language_codes = ['ar', 'bg', 'bn', 'de', 'en', 'es', 'et', 'fa', 'fi', 'fr', 'gu', 'hi', 'hr', 'id', 'it', 'ja', 'kk', 'kn', 'ko', 'lt', 'lv', 'mk', 'ml', 'mr', 'ms', 'my', 'nl', 'no', 'pl', 'pt', 'ro', 'ru', 'si', 'sk', 'sl', 'sq', 'sv', 'ta', 'te', 'th', 'tl', 'tr', 'uk', 'ur', 'vi', 'zh']\n",
        "\n",
        "# # Map the predicted language ID to language code\n",
        "# predicted_language_code = language_codes[predicted_language_id]\n",
        "\n",
        "# print(\"Predicted Language:\", predicted_language_code)"
      ],
      "metadata": {
        "id": "rVA2fMPzrBcE"
      },
      "execution_count": null,
      "outputs": []
    },
    {
      "cell_type": "code",
      "source": [
        "from transformers import AutoTokenizer, TFMBartModel, MBartForConditionalGeneration\n",
        "import tensorflow as tf"
      ],
      "metadata": {
        "id": "nuqPVePYrV3_"
      },
      "execution_count": null,
      "outputs": []
    },
    {
      "cell_type": "code",
      "source": [
        "tokenizer = AutoTokenizer.from_pretrained(\"facebook/mbart-large-50-many-to-one-mmt\")\n",
        "model = MBartForConditionalGeneration.from_pretrained(\"facebook/mbart-large-50-many-to-one-mmt\")"
      ],
      "metadata": {
        "id": "vBhTanGXzOd4"
      },
      "execution_count": null,
      "outputs": []
    },
    {
      "cell_type": "code",
      "source": [
        "results = []\n",
        "\n",
        "for i in range(10):\n",
        "  text = str(documents[i])\n",
        "  encoded_docs = tokenizer(text, return_tensors=\"pt\")\n",
        "  generated_tokens = model.generate(**encoded_docs)\n",
        "  translated_docs = tokenizer.batch_decode(generated_tokens, skip_special_tokens=True)\n",
        "\n",
        "  results.append(translated_docs)"
      ],
      "metadata": {
        "id": "YqYJvMEZ6oj2"
      },
      "execution_count": null,
      "outputs": []
    },
    {
      "cell_type": "code",
      "source": [
        "# text = str(documents[:1])\n",
        "# encoded_docs = tokenizer(text, return_tensors=\"pt\")\n",
        "# generated_tokens = model.generate(**encoded_docs)\n",
        "# translated_docs = tokenizer.batch_decode(generated_tokens, skip_special_tokens=True)\n",
        "# translated_docs"
      ],
      "metadata": {
        "id": "yoAlBpAb0HCi"
      },
      "execution_count": null,
      "outputs": []
    },
    {
      "cell_type": "code",
      "source": [
        "results"
      ],
      "metadata": {
        "colab": {
          "base_uri": "https://localhost:8080/"
        },
        "id": "6RvSxnLM6TZY",
        "outputId": "8217cd28-1372-4eeb-ee7f-b2a8042c550f"
      },
      "execution_count": null,
      "outputs": [
        {
          "output_type": "execute_result",
          "data": {
            "text/plain": [
              "[[\"page_content='SECOND SECTION\\\\nA.A.K. v. TÜRKİYE\\\\n(Application No. 56578/11)\\\\n JUDGMENT\\\\nArticle 8 \\\\nPrivacy \\\\nThe applicant has been placed under judicial supervision following a \\\\nprocedure which concluded that she suffered from a mental disorder which impaired her ability to act \\\\n Existence of effective safeguards in domestic procedure to prevent abuses by ensuring that the applicant’s rights and interests are taken into account \\\\nParticipation of the applicant in the decision-making process at all stages of the procedure \\\\nA judicial mechanism which has proceeded with the necessary fairness and diligence and which has gathered sufficient evidence to assess the applicant’s deficiencies and to prevent possible injustices Limitation of the measure in\"],\n",
              " ['page_content=\\' JUDGMENT A.A.K. v. TÜRKİYE \\\\n1In the case of A.A.K. v. Türkiye,\\\\nThe European Court of Human Rights (Second Section), sitting \\\\na Chamber composed of:\\\\nArnfinn Bårdsen, President,\\\\nJovan Ilievski,\\\\nEgidijus Kūris,\\\\nSaadet Yüksel,\\\\nLorraine Schembri Orland,\\\\nDiana Sârcu,\\\\nDavor Derenčinović, Judges,\\\\nnet of Hasan Bakırcı, Registrar of Section,\\\\nVu:\\\\nthe application (No. 56578/11) brought against the Republic of Turkey and of which \\\\na national of that State, Ms A.A.K. (\"the applicant\") \\\\nunder Article 34 of the Convention for the Protection'],\n",
              " ['page_content=\\'APPEAL A.A.K. v Turkey \\\\n25. On 13 October 2004, she was re-examined by the doctors of the \\\\nmedical legal institute. According to the report issued accordingly, she suffered from \\\\nordinary schizophrenia.\\\\n6. In December 2007, one of her students in private class informed the \\\\napplicant that the \\\\ninstructor N.E. of her class had disclosed to the students a \\\\ngrande part of the questions prepared for a departmental competition.\\\\nThe \\\\napplicant transmitted this denunciation to the competent authorities. On the occasion when N.E. tried to speak to her, she excluded herself: \"the case \\\\nindicates why you stole the questions (...), I will disclose all your \\\\nscro'],\n",
              " [\"page_content='DECISION A.A.K. v Turkey \\\\n3qualified to be her legal guardian and to have an inventory of her \\\\npatrimony.\\\\nAccording to the information communicated to the court, the applicant did not possess any real estate or bank savings.\\\\n14. On an unspecified date, the applicant asked in writing the Aydın Bar to appoint an ex officio lawyer to assist her.\\\\n15. The court held its first hearing on 4 June 2009. It turned out that the applicant had objected to her medical examination at the hospital. The judge ordered the local security directorate to carry out this measure.\\\\n16. By decision of 11 June 2009, the Aydın Bar rejected the applicant’s request for legal assistance on the grounds that she had a monthly income of between 600 and 1000 Turkish\"],\n",
              " [\"page_content='APPEAL A.A.K. v Turkey \\\\n4psychiatry of the Faculty of Forensic Medicine of the Istanbul University Hospital.\\\\n24. At the hearing on 17 September 2009, Mr M.A. stated that she had resigned from her duties (paragraph 22 above) and that the applicant needed to be informed. The court read out a faxed memorandum sent by the applicant.\\\\n25. By decision of 24 September 2009, the Aydın Bar considered Mr M.A.’s apology to be well founded and annulled the legal aid granted to the applicant.\\\\n26. At the next hearing on 1 October 2009, the applicant explained that she had asked the Istanbul Bar to appoint a new counsel and had asked the Istanbul University Hospital for a new expert opinion (paragraph 23 above).\\\\n27. On 20 October 2009, the A\"],\n",
              " [\"page_content='APPEAL A.A.K. v.Türkiye \\\\n5The Institute of Forensic Medicine stated that these disorders were of such a level and nature as to deprive the applicant of the freedom to discern and act accordingly, as well as the ability to analyse events and draw conclusions from them. Thus, the applicant was unable to identify and protect her own interests or to resist manipulative influences from others; in other words, she was unable to engage in anything in an autonomous and free manner.\\\\n33. On 2 March 2010, H.K., supported by the applicant, challenged this second report and requested its revision by the Plenary of the Institute of Forensic Medicine in Istanbul. The Court rejected this request, on the grounds that the report criticised did not contain any contradictions and was therefore sufficient to\"],\n",
              " ['page_content=\\'DECISION A.A.K. v Turkey \\\\n637. On 11 July 2014, the Court upheld this application and ordered the examination of the applicant by the forensic services of the Istanbul University Hospital and the Dokuz University Hospital in İzmir.\\\\n38. The first hospital submitted its detailed report on 27 February 2015. \\\\nConvinced that the \\\\napplicant\\'s \"obsessive-compulsive-narcotic\" personality no longer met a threshold serious enough to endanger her mental health, the doctors concluded that there was no longer any need to keep the \\\\napplicant under guardianship.\\\\n39. By a judgment of 19 March 2015, the Court upheld this conclusion and lifted the contested measure.\\\\nINTERNAL LEGAL FRAMEWORK AND PRACTICE\\\\nI. SUBTITUTION\\\\'],\n",
              " [\"page_content='DECISION A.A.K. v.Türkiye \\\\n744. Article 36 of the Constitution establishes the right of any person, applicant or defendant, to use all lawful means and channels to enforce his or her case, to defend himself or herself and to enjoy a fair trial before the courts.\\\\nII. THE OFFICE COMMISSION OF ADVOCATE\\\\n45. Apart from legal aid which is aimed at the exemption of legal expenses under the Code of Civil Procedure, and the award of which falls within the jurisdiction of the courts, the assignment of an ex-officio lawyer, under the title of legal aid, is governed by Law No. 1136 on the profession of lawyer, as amended by Law No. 4667 of 2 May 2001 and by Regulation No. 25418 of 30 March 2004. According to Article 176 of this Law\"],\n",
              " [\"page_content='ARRÊT A.A.K. v. TÜRKİYE \\\\n8Principle 8 – Presence of the interests and well-being of the data subject\\\\n1. When establishing or implementing a measure of protection for an \\\\nincapable person, the interests and well-being of the \\\\ncapable person shall be taken into account in a predominant manner.\\\\n2. This principle implies, in particular, that the choice of a person to represent or assist the \\\\ncapable person shall be governed primarily by that person’s ability to \\\\nprotect and promote the interests and well-being of the \\\\ncapable person.\\\\n3. This principle also implies that the assets of the \\\\ncapable person shall be managed and \\\\enforced for the benefit and in order to ensure\"],\n",
              " [\"page_content='JUDGMENT A.A.K. v.Türkiye \\\\n9EN LAW\\\\nFOR THE ALLEGED VIOLATION OF ARTICLE 8 OF THE \\\\nCONVENTION\\\\nA. Subject-matter of the dispute and admissibility\\\\n48. The applicant, deploring the fact that her legal incapacity was pronounced without good cause and in the absence of the assistance of counsel, complains, inter alia, that the domestic courts did not take the necessary steps to provide her with an ex officio lawyer and to respond to her objections to the medical reports on which her guardianship was based; in short, the Turkish judicial system would not have been in a position to protect her against this disproportionate measure which would have ruined her future.\\\\nIn this respect, the applicant alleges a violation of her right to a fair trial\"]]"
            ]
          },
          "metadata": {},
          "execution_count": 95
        }
      ]
    }
  ]
}